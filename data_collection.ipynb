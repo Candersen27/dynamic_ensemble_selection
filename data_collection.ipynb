{
 "cells": [
  {
   "cell_type": "code",
   "execution_count": 2,
   "metadata": {},
   "outputs": [],
   "source": [
    "import pandas as pd\n",
    "import numpy as np\n",
    "\n",
    "from sklearn.preprocessing import StandardScaler"
   ]
  },
  {
   "cell_type": "code",
   "execution_count": 3,
   "metadata": {},
   "outputs": [],
   "source": [
    "original_data = pd.read_csv('data/train.csv')\n",
    "\n",
    "final_test_data = pd.read_csv('data/test.csv')\n",
    "\n",
    "\n"
   ]
  },
  {
   "cell_type": "code",
   "execution_count": 4,
   "metadata": {},
   "outputs": [],
   "source": [
    "# function definitions\n",
    "\n",
    "def feature_engineering(df):\n",
    "    # Add FamilySize feature\n",
    "    df['FamilySize'] = df['SibSp'] + df['Parch'] + 1\n",
    "\n",
    "    # Add IsAlone feature\n",
    "    df['IsAlone'] = 0\n",
    "    df.loc[df['FamilySize'] == 1, 'IsAlone'] = 1\n",
    "\n",
    "    # Add title feature\n",
    "    df['Title'] = df['Name'].str.extract(' ([A-Za-z]+)\\.', expand=False)\n",
    "\n",
    "    # Replace rare titles with 'Rare'\n",
    "    df['Title'] = df['Title'].replace(['Lady', 'Countess','Capt', 'Col', 'Don', 'Dr', 'Major', 'Rev', 'Sir', 'Jonkheer', 'Dona'], 'Rare')\n",
    "\n",
    "    # Replace common titles with 'Mr', 'Mrs', 'Miss', 'Master'\n",
    "    df['Title'] = df['Title'].replace('Mlle', 'Miss')\n",
    "    df['Title'] = df['Title'].replace('Ms', 'Miss')\n",
    "    df['Title'] = df['Title'].replace('Mme', 'Mrs')\n",
    "\n",
    "    # Replace missing age values with median\n",
    "    df['Age'].fillna(df['Age'].median(), inplace=True)\n",
    "\n",
    "    # Replace missing values in fare with median\n",
    "    df['Fare'].fillna(df['Fare'].median(), inplace=True)\n",
    "\n",
    "    # Replace missing values in embarked with mode\n",
    "    df['Embarked'].fillna(df['Embarked'].mode()[0], inplace=True)\n",
    "\n",
    "    # Add AgeGroup feature\n",
    "    df['AgeGroup'] = pd.cut(df['Age'], 5)\n",
    "\n",
    "    # Add FareGroup feature\n",
    "    df['FareGroup'] = pd.qcut(df['Fare'], 4)\n",
    "\n",
    "    # Drop unnecessary columns\n",
    "    df.drop(['Name', 'Ticket', 'Cabin'], axis=1, inplace=True)\n",
    "\n",
    "    return df"
   ]
  },
  {
   "cell_type": "code",
   "execution_count": 5,
   "metadata": {},
   "outputs": [],
   "source": [
    "def one_hot_encode(df):\n",
    "    df = pd.get_dummies(df, columns=['Sex', 'Embarked', 'Title'])\n",
    "    return df"
   ]
  },
  {
   "cell_type": "code",
   "execution_count": 6,
   "metadata": {},
   "outputs": [],
   "source": [
    "def category_encoding(df):\n",
    "    df['AgeGroup'] = df['AgeGroup'].cat.codes\n",
    "    df['FareGroup'] = df['FareGroup'].cat.codes\n",
    "    return df"
   ]
  },
  {
   "cell_type": "code",
   "execution_count": 7,
   "metadata": {},
   "outputs": [],
   "source": [
    "def normalize(df):\n",
    "    standardized_df = df.copy()\n",
    "\n",
    "    features = ['Age', 'Fare', 'FamilySize']\n",
    "\n",
    "    scaler = StandardScaler()\n",
    "    scaler.fit(standardized_df[features])\n",
    "\n",
    "    standardized_df[features] = scaler.transform(standardized_df[features])\n",
    "\n",
    "    return standardized_df"
   ]
  },
  {
   "cell_type": "code",
   "execution_count": 7,
   "metadata": {},
   "outputs": [],
   "source": [
    "training_data = original_data.copy()\n",
    "training_data = feature_engineering(training_data)\n",
    "training_data = one_hot_encode(training_data)\n",
    "training_data = category_encoding(training_data)\n",
    "training_data = normalize(training_data)"
   ]
  },
  {
   "cell_type": "code",
   "execution_count": 8,
   "metadata": {},
   "outputs": [],
   "source": [
    "final_test_data_copy = final_test_data.copy()\n",
    "final_test_data_copy = feature_engineering(final_test_data_copy)\n",
    "final_test_data_copy = one_hot_encode(final_test_data_copy)\n",
    "final_test_data_copy = category_encoding(final_test_data_copy)\n",
    "final_test_data_copy = normalize(final_test_data_copy)\n",
    "\n"
   ]
  },
  {
   "cell_type": "code",
   "execution_count": 14,
   "metadata": {},
   "outputs": [],
   "source": [
    "# Split the data into training and pre-testing\n",
    "\n",
    "from sklearn.model_selection import train_test_split\n",
    "\n",
    "train_data, pre_test_data = train_test_split(training_data, test_size=0.2, random_state=42)\n",
    "\n",
    "\n"
   ]
  },
  {
   "cell_type": "code",
   "execution_count": 15,
   "metadata": {},
   "outputs": [],
   "source": [
    "# Save the pre-test data\n",
    "pre_test_data.to_csv('data/pre_test.csv', index=False)\n",
    "\n",
    "# Save the training data\n",
    "train_data.to_csv('data/train_data.csv', index=False)"
   ]
  },
  {
   "cell_type": "code",
   "execution_count": 8,
   "metadata": {},
   "outputs": [],
   "source": [
    "# Save the complete training data\n",
    "training_data.to_csv('data/final_training_data.csv', index=False)\n",
    "\n"
   ]
  },
  {
   "cell_type": "code",
   "execution_count": null,
   "metadata": {},
   "outputs": [],
   "source": [
    "final_test_data_copy.to_csv('data/final_test_data.csv', index=False)\n",
    "\n"
   ]
  }
 ],
 "metadata": {
  "kernelspec": {
   "display_name": "kuzco_conda",
   "language": "python",
   "name": "python3"
  },
  "language_info": {
   "codemirror_mode": {
    "name": "ipython",
    "version": 3
   },
   "file_extension": ".py",
   "mimetype": "text/x-python",
   "name": "python",
   "nbconvert_exporter": "python",
   "pygments_lexer": "ipython3",
   "version": "3.11.5"
  }
 },
 "nbformat": 4,
 "nbformat_minor": 2
}
