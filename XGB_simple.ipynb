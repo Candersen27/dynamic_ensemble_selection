{
 "cells": [
  {
   "cell_type": "code",
   "execution_count": 1,
   "metadata": {},
   "outputs": [],
   "source": [
    "import pandas as pd\n",
    "import numpy as np\n",
    "import os\n",
    "\n"
   ]
  },
  {
   "cell_type": "code",
   "execution_count": 2,
   "metadata": {},
   "outputs": [],
   "source": [
    "training_data = pd.read_csv('data/final_training_data.csv')\n",
    "\n",
    "testing_data = pd.read_csv('data/final_test_data.csv')\n"
   ]
  },
  {
   "cell_type": "code",
   "execution_count": 3,
   "metadata": {},
   "outputs": [],
   "source": [
    "from xgboost import XGBClassifier\n",
    "\n"
   ]
  },
  {
   "cell_type": "code",
   "execution_count": 8,
   "metadata": {},
   "outputs": [],
   "source": [
    "model = XGBClassifier()\n",
    "final_output = []\n",
    "\n",
    "X_test, passenger_id = testing_data.drop(['PassengerId'], axis=1), testing_data['PassengerId']\n",
    "X_train, y_train = training_data.drop(['Survived', 'PassengerId'], axis=1), training_data['Survived']\n",
    "\n",
    "model.fit(X_train, y_train)\n",
    "\n",
    "predictions = model.predict(X_test)\n",
    "\n",
    "for index, prediction in enumerate(predictions):\n",
    "    final_output.append([passenger_id[index], prediction])\n",
    "\n",
    "final_output = pd.DataFrame(final_output, columns=['PassengerId', 'Survived'])\n",
    "final_output.to_csv('data/final_predictions_XGB.csv', index=False)\n"
   ]
  },
  {
   "cell_type": "code",
   "execution_count": 7,
   "metadata": {},
   "outputs": [
    {
     "name": "stdout",
     "output_type": "stream",
     "text": [
      "[0 0 0 0 1 0 1 0 1 0]\n"
     ]
    }
   ],
   "source": [
    "print(predictions[:10])\n",
    "\n"
   ]
  }
 ],
 "metadata": {
  "kernelspec": {
   "display_name": "kuzco_conda",
   "language": "python",
   "name": "python3"
  },
  "language_info": {
   "codemirror_mode": {
    "name": "ipython",
    "version": 3
   },
   "file_extension": ".py",
   "mimetype": "text/x-python",
   "name": "python",
   "nbconvert_exporter": "python",
   "pygments_lexer": "ipython3",
   "version": "3.11.5"
  }
 },
 "nbformat": 4,
 "nbformat_minor": 2
}
